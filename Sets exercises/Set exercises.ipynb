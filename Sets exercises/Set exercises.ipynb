{
 "cells": [
  {
   "cell_type": "markdown",
   "id": "0b44427a",
   "metadata": {},
   "source": [
    "fruits = {1,2,3, \"apple\", \"banana\"}"
   ]
  },
  {
   "cell_type": "code",
   "execution_count": 1,
   "id": "0382a7b6",
   "metadata": {},
   "outputs": [],
   "source": [
    "# 1. Create the set with the following name and data. Name = fruits, value = 1,2,3,”apple”, “, ”banana”.\n",
    "fruits = {1,2,3, \"apple\", \"banana\"}\n",
    "\n",
    "# Curly brackets {} are used in defining Sets and Dictionaries in Python. "
   ]
  },
  {
   "cell_type": "code",
   "execution_count": 2,
   "id": "dcc27a2d",
   "metadata": {},
   "outputs": [
    {
     "data": {
      "text/plain": [
       "{1, 2, 3, 'apple', 'banana', 'cherry'}"
      ]
     },
     "execution_count": 2,
     "metadata": {},
     "output_type": "execute_result"
    }
   ],
   "source": [
    "# 2. Insert one more item in fruits set. Value = “cherry”.\n",
    "fruits.add(\"cherry\")\n",
    "fruits\n",
    "\n",
    "# We use the \".add()\" method to add items to Sets. \".append()\" is not an attribute/method available to Sets as it is to Lists."
   ]
  },
  {
   "cell_type": "code",
   "execution_count": 3,
   "id": "be69eb17",
   "metadata": {},
   "outputs": [],
   "source": [
    "# 3. Remove item from fruits. Value = “cherry” using remove() method.\n",
    "fruits.remove(\"cherry\")\n",
    "\n",
    "# I could've used \".discard()\" as well, as demonstarted in the next question."
   ]
  },
  {
   "cell_type": "code",
   "execution_count": 4,
   "id": "d24c131e",
   "metadata": {},
   "outputs": [
    {
     "name": "stdout",
     "output_type": "stream",
     "text": [
      "{'apple', 1, 2, 3, 'banana'}\n"
     ]
    }
   ],
   "source": [
    "print(fruits)"
   ]
  },
  {
   "cell_type": "code",
   "execution_count": 5,
   "id": "f3cbf8d4",
   "metadata": {},
   "outputs": [],
   "source": [
    "# 4. Use discard() method to delete an item from the set fruits.\n",
    "fruits.discard(\"banana\")"
   ]
  },
  {
   "cell_type": "code",
   "execution_count": 6,
   "id": "3d68f7c8",
   "metadata": {},
   "outputs": [
    {
     "name": "stdout",
     "output_type": "stream",
     "text": [
      "{'apple', 1, 2, 3}\n"
     ]
    }
   ],
   "source": [
    "print(fruits)"
   ]
  },
  {
   "cell_type": "code",
   "execution_count": 7,
   "id": "0e7bb126",
   "metadata": {},
   "outputs": [
    {
     "data": {
      "text/plain": [
       "'apple'"
      ]
     },
     "execution_count": 7,
     "metadata": {},
     "output_type": "execute_result"
    }
   ],
   "source": [
    "# 5. Use pop() method for set fruits\n",
    "fruits.pop()\n",
    "\n",
    "# \".pop()\" removes an arbitrary (random) element. In this case, it removed the first element: 'apple', from the set.    "
   ]
  },
  {
   "cell_type": "code",
   "execution_count": 9,
   "id": "053a98f7",
   "metadata": {},
   "outputs": [
    {
     "name": "stdout",
     "output_type": "stream",
     "text": [
      "{1, 2, 3}\n"
     ]
    }
   ],
   "source": [
    "print(fruits)"
   ]
  },
  {
   "cell_type": "code",
   "execution_count": null,
   "id": "b3ede689",
   "metadata": {},
   "outputs": [],
   "source": []
  }
 ],
 "metadata": {
  "kernelspec": {
   "display_name": "Python 3 (ipykernel)",
   "language": "python",
   "name": "python3"
  },
  "language_info": {
   "codemirror_mode": {
    "name": "ipython",
    "version": 3
   },
   "file_extension": ".py",
   "mimetype": "text/x-python",
   "name": "python",
   "nbconvert_exporter": "python",
   "pygments_lexer": "ipython3",
   "version": "3.9.7"
  }
 },
 "nbformat": 4,
 "nbformat_minor": 5
}
