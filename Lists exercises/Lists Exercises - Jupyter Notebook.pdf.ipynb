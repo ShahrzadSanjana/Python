{
 "cells": [
  {
   "cell_type": "code",
   "execution_count": 3,
   "id": "620f571e",
   "metadata": {},
   "outputs": [
    {
     "name": "stdout",
     "output_type": "stream",
     "text": [
      "('Shahrzad Sanjana', 'Akash Ardeshna', 'Pavin Thomas', 'Lecille Cuizon', 'Tejinder Singh', 'Arun Mudumala', 'Pratixa Patel', 'Murtaza Hosseini')\n"
     ]
    }
   ],
   "source": [
    "#Q1 Create a tuple with all participant names in the JDA program\n",
    "participant_names = (\"Shahrzad Sanjana\", \"Akash Ardeshna\", \"Pavin Thomas\", \"Lecille Cuizon\", \"Tejinder Singh\", \"Arun Mudumala\", \"Pratixa Patel\", \"Murtaza Hosseini\")\n",
    "\n",
    "print(participant_names)"
   ]
  },
  {
   "cell_type": "code",
   "execution_count": 5,
   "id": "454cb687",
   "metadata": {},
   "outputs": [
    {
     "data": {
      "text/plain": [
       "list"
      ]
     },
     "execution_count": 5,
     "metadata": {},
     "output_type": "execute_result"
    }
   ],
   "source": [
    "#Q2 Convert the tuple into a list called pps_L\n",
    "pps_L= list(participant_names)\n",
    "type(pps_L)"
   ]
  },
  {
   "cell_type": "code",
   "execution_count": 6,
   "id": "c49f5fd5",
   "metadata": {},
   "outputs": [
    {
     "name": "stdout",
     "output_type": "stream",
     "text": [
      "['Shahrzad Sanjana', 'Akash Ardeshna', 'Pavin Thomas', 'Lecille Cuizon', 'Tejinder Singh', 'Arun Mudumala', 'Pratixa Patel', 'Murtaza Hosseini']\n"
     ]
    }
   ],
   "source": [
    "print(pps_L)"
   ]
  },
  {
   "cell_type": "code",
   "execution_count": 7,
   "id": "43a5162c",
   "metadata": {},
   "outputs": [
    {
     "data": {
      "text/plain": [
       "8"
      ]
     },
     "execution_count": 7,
     "metadata": {},
     "output_type": "execute_result"
    }
   ],
   "source": [
    "#Q3 What is the length of your list\n",
    "len(pps_L)"
   ]
  },
  {
   "cell_type": "code",
   "execution_count": 12,
   "id": "a2784595",
   "metadata": {},
   "outputs": [
    {
     "ename": "IndexError",
     "evalue": "list index out of range",
     "output_type": "error",
     "traceback": [
      "\u001b[1;31m---------------------------------------------------------------------------\u001b[0m",
      "\u001b[1;31mIndexError\u001b[0m                                Traceback (most recent call last)",
      "\u001b[1;32m~\\AppData\\Local\\Temp/ipykernel_19468/2301733859.py\u001b[0m in \u001b[0;36m<module>\u001b[1;34m\u001b[0m\n\u001b[0;32m      1\u001b[0m \u001b[1;31m#Q4 Find the values stored in indexes [3],[5],[14],[30],[38]\u001b[0m\u001b[1;33m\u001b[0m\u001b[1;33m\u001b[0m\u001b[0m\n\u001b[1;32m----> 2\u001b[1;33m \u001b[0mpps_L\u001b[0m\u001b[1;33m[\u001b[0m\u001b[1;36m3\u001b[0m\u001b[1;33m]\u001b[0m\u001b[1;33m,\u001b[0m \u001b[0mpps_L\u001b[0m\u001b[1;33m[\u001b[0m\u001b[1;36m5\u001b[0m\u001b[1;33m]\u001b[0m\u001b[1;33m,\u001b[0m \u001b[0mpps_L\u001b[0m\u001b[1;33m[\u001b[0m\u001b[1;36m14\u001b[0m\u001b[1;33m]\u001b[0m\u001b[1;33m,\u001b[0m \u001b[0mpps_L\u001b[0m\u001b[1;33m[\u001b[0m\u001b[1;36m30\u001b[0m\u001b[1;33m]\u001b[0m\u001b[1;33m,\u001b[0m \u001b[0mpps_L\u001b[0m\u001b[1;33m[\u001b[0m\u001b[1;36m38\u001b[0m\u001b[1;33m]\u001b[0m\u001b[1;33m\u001b[0m\u001b[1;33m\u001b[0m\u001b[0m\n\u001b[0m",
      "\u001b[1;31mIndexError\u001b[0m: list index out of range"
     ]
    }
   ],
   "source": [
    "#Q4 Find the values stored in indexes [3],[5],[14],[30],[38]\n",
    "pps_L[3], pps_L[5], pps_L[14], pps_L[30], pps_L[38]"
   ]
  },
  {
   "cell_type": "code",
   "execution_count": 13,
   "id": "7a005707",
   "metadata": {},
   "outputs": [
    {
     "data": {
      "text/plain": [
       "False"
      ]
     },
     "execution_count": 13,
     "metadata": {},
     "output_type": "execute_result"
    }
   ],
   "source": [
    "#Q5 Check if \"Sarah\" is in the list\n",
    "\"Sarah\" in pps_L"
   ]
  },
  {
   "cell_type": "code",
   "execution_count": 16,
   "id": "aeb17d75",
   "metadata": {},
   "outputs": [
    {
     "name": "stdout",
     "output_type": "stream",
     "text": [
      "['Shahrzad Sanjana', 'Akash Ardeshna', 'Pavin Thomas', 'Lecille Cuizon', 'Tejinder Singh', 'Arun Mudumala', 'Pratixa Patel', 'Murtaza Hosseini', 'Sarah', 'Sarah']\n"
     ]
    }
   ],
   "source": [
    "#Q6 Add \"Sarah\" to your list\n",
    "pps_L.append(\"Sarah\")\n",
    "print(pps_L)\n"
   ]
  },
  {
   "cell_type": "code",
   "execution_count": 19,
   "id": "1eb0fe86",
   "metadata": {},
   "outputs": [
    {
     "name": "stdout",
     "output_type": "stream",
     "text": [
      "['Shahrzad Sanjana', 'Akash Ardeshna', 'Pavin Thomas', 'Lecille Cuizon', 'Tejinder Singh', 'Arun Mudumala', 'Pratixa Patel', 'Murtaza Hosseini', 'Sarah', 'Sarah']\n"
     ]
    }
   ],
   "source": [
    "print(pps_L)"
   ]
  },
  {
   "cell_type": "code",
   "execution_count": 20,
   "id": "138799d1",
   "metadata": {},
   "outputs": [
    {
     "data": {
      "text/plain": [
       "'Sarah'"
      ]
     },
     "execution_count": 20,
     "metadata": {},
     "output_type": "execute_result"
    }
   ],
   "source": [
    "pps_L.pop(-1)"
   ]
  },
  {
   "cell_type": "code",
   "execution_count": 21,
   "id": "664eba34",
   "metadata": {},
   "outputs": [
    {
     "name": "stdout",
     "output_type": "stream",
     "text": [
      "['Shahrzad Sanjana', 'Akash Ardeshna', 'Pavin Thomas', 'Lecille Cuizon', 'Tejinder Singh', 'Arun Mudumala', 'Pratixa Patel', 'Murtaza Hosseini', 'Sarah']\n"
     ]
    }
   ],
   "source": [
    "print(pps_L)"
   ]
  },
  {
   "cell_type": "code",
   "execution_count": 22,
   "id": "762704fc",
   "metadata": {},
   "outputs": [
    {
     "data": {
      "text/plain": [
       "False"
      ]
     },
     "execution_count": 22,
     "metadata": {},
     "output_type": "execute_result"
    }
   ],
   "source": [
    "#Q7 Check if \"Bashir\" is in the list\n",
    "\"Bashir\" in pps_L"
   ]
  },
  {
   "cell_type": "code",
   "execution_count": 23,
   "id": "59a1fb3e",
   "metadata": {},
   "outputs": [],
   "source": [
    "#Q9 Add \"Bashir\" to your list\n",
    "pps_L.append(\"Bashir\")"
   ]
  },
  {
   "cell_type": "code",
   "execution_count": 24,
   "id": "41d55e70",
   "metadata": {},
   "outputs": [
    {
     "name": "stdout",
     "output_type": "stream",
     "text": [
      "['Shahrzad Sanjana', 'Akash Ardeshna', 'Pavin Thomas', 'Lecille Cuizon', 'Tejinder Singh', 'Arun Mudumala', 'Pratixa Patel', 'Murtaza Hosseini', 'Sarah', 'Bashir']\n"
     ]
    }
   ],
   "source": [
    "print(pps_L)"
   ]
  },
  {
   "cell_type": "code",
   "execution_count": 26,
   "id": "1f15ae8a",
   "metadata": {},
   "outputs": [
    {
     "data": {
      "text/plain": [
       "8"
      ]
     },
     "execution_count": 26,
     "metadata": {},
     "output_type": "execute_result"
    }
   ],
   "source": [
    "#Q10 Find the index of the element \"Sarah\" in the list\n",
    "pps_L.index(\"Sarah\")"
   ]
  },
  {
   "cell_type": "code",
   "execution_count": 27,
   "id": "3d86890f",
   "metadata": {},
   "outputs": [],
   "source": [
    "#Q11 Change the value of the index in Q10 from \"Sarah\" to \"Instructor\"\n",
    "pps_L[8] = \"Instructor\""
   ]
  },
  {
   "cell_type": "code",
   "execution_count": 28,
   "id": "70d988aa",
   "metadata": {},
   "outputs": [
    {
     "name": "stdout",
     "output_type": "stream",
     "text": [
      "['Shahrzad Sanjana', 'Akash Ardeshna', 'Pavin Thomas', 'Lecille Cuizon', 'Tejinder Singh', 'Arun Mudumala', 'Pratixa Patel', 'Murtaza Hosseini', 'Instructor', 'Bashir']\n"
     ]
    }
   ],
   "source": [
    "print(pps_L)"
   ]
  },
  {
   "cell_type": "code",
   "execution_count": 29,
   "id": "ffaa0f6d",
   "metadata": {},
   "outputs": [
    {
     "data": {
      "text/plain": [
       "9"
      ]
     },
     "execution_count": 29,
     "metadata": {},
     "output_type": "execute_result"
    }
   ],
   "source": [
    "#Q12 Find the index of the element \"Bashir\" in the list\n",
    "pps_L.index(\"Bashir\")"
   ]
  },
  {
   "cell_type": "code",
   "execution_count": 32,
   "id": "df646bb8",
   "metadata": {},
   "outputs": [],
   "source": [
    "#Q13 Change the value of the index in Q12 from \"Bashir\" to \"Peer-Mentor\"\n",
    "pps_L[9]= \"Peer-Mentor\""
   ]
  },
  {
   "cell_type": "code",
   "execution_count": 33,
   "id": "5636eaa8",
   "metadata": {},
   "outputs": [
    {
     "name": "stdout",
     "output_type": "stream",
     "text": [
      "['Shahrzad Sanjana', 'Akash Ardeshna', 'Pavin Thomas', 'Lecille Cuizon', 'Tejinder Singh', 'Arun Mudumala', 'Pratixa Patel', 'Murtaza Hosseini', 'Instructor', 'Peer-Mentor']\n"
     ]
    }
   ],
   "source": [
    "print(pps_L)"
   ]
  },
  {
   "cell_type": "code",
   "execution_count": null,
   "id": "97f6022d",
   "metadata": {},
   "outputs": [],
   "source": []
  }
 ],
 "metadata": {
  "kernelspec": {
   "display_name": "Python 3 (ipykernel)",
   "language": "python",
   "name": "python3"
  },
  "language_info": {
   "codemirror_mode": {
    "name": "ipython",
    "version": 3
   },
   "file_extension": ".py",
   "mimetype": "text/x-python",
   "name": "python",
   "nbconvert_exporter": "python",
   "pygments_lexer": "ipython3",
   "version": "3.9.7"
  }
 },
 "nbformat": 4,
 "nbformat_minor": 5
}
